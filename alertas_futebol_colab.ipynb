{
  "cells": [
    {
      "cell_type": "markdown",
      "id": "beda43dc",
      "metadata": {
        "id": "beda43dc"
      },
      "source": [
        "# 🚀 Alertas de Gols no WhatsApp"
      ]
    },
    {
      "cell_type": "code",
      "execution_count": null,
      "id": "b37b07b0",
      "metadata": {
        "id": "b37b07b0",
        "outputId": "a67d6b92-4066-46f3-8672-b12b8c3f7576",
        "colab": {
          "base_uri": "https://localhost:8080/"
        }
      },
      "outputs": [
        {
          "output_type": "stream",
          "name": "stdout",
          "text": [
            "Requirement already satisfied: requests in /usr/local/lib/python3.11/dist-packages (2.32.3)\n",
            "Requirement already satisfied: charset-normalizer<4,>=2 in /usr/local/lib/python3.11/dist-packages (from requests) (3.4.3)\n",
            "Requirement already satisfied: idna<4,>=2.5 in /usr/local/lib/python3.11/dist-packages (from requests) (3.10)\n",
            "Requirement already satisfied: urllib3<3,>=1.21.1 in /usr/local/lib/python3.11/dist-packages (from requests) (2.5.0)\n",
            "Requirement already satisfied: certifi>=2017.4.17 in /usr/local/lib/python3.11/dist-packages (from requests) (2025.8.3)\n",
            "🚀 Sistema de alertas iniciado...\n"
          ]
        }
      ],
      "source": [
        "\n",
        "!pip install requests\n",
        "\n",
        "import requests\n",
        "import time\n",
        "from datetime import datetime\n",
        "\n",
        "# Suas credenciais\n",
        "API_FOOTBALL_KEY = \"6244442c30590171826e72671858f6e2\"\n",
        "WHATSAPP_TOKEN = \"EAAoXQSWs8lkBPKgrLQm9ZBs8C7H4CUeJdsdRDrxOupVrss1d4OIJy039eldKh7U3dVjezuvflm68INm2UkK3MS2LPZBRy0q7rEo8ebP0kBrO6x1NpDdNzZB684l7AcD4O3w2LtEKuWMqHwqcnO0WpAPGO7oxnqZACakSEBSUrKIxNyCBxXZBwSZCVuSW2KpMg1hjBNZADHH4diuf1LdwZBMZCdZBaK31NvasKu01xj54JEnDxudQZDZD\"\n",
        "WHATSAPP_PHONE_ID = \"721571921044564\"\n",
        "DESTINATION_PHONE = \"5531998289971\"\n",
        "\n",
        "LEAGUE_IDS = {\n",
        "    \"Inglaterra\": 39,\n",
        "    \"Noruega\": 103,\n",
        "    \"Alemanha\": 78,\n",
        "    \"Itália\": 135,\n",
        "    \"Portugal\": 94,\n",
        "    \"França\": 61,\n",
        "    \"Brasil\": 71,\n",
        "    \"Argentina\": 128,\n",
        "    \"Espanha\": 140,\n",
        "    \"Libertadores\": 131,\n",
        "    \"Sul-Americana\": 134\n",
        "}\n",
        "\n",
        "def send_whatsapp_message(message):\n",
        "    url = f\"https://graph.facebook.com/v19.0/{WHATSAPP_PHONE_ID}/messages\"\n",
        "    headers = {\n",
        "        \"Authorization\": f\"Bearer {WHATSAPP_TOKEN}\",\n",
        "        \"Content-Type\": \"application/json\"\n",
        "    }\n",
        "    payload = {\n",
        "        \"messaging_product\": \"whatsapp\",\n",
        "        \"to\": DESTINATION_PHONE,\n",
        "        \"type\": \"text\",\n",
        "        \"text\": {\"body\": message}\n",
        "    }\n",
        "    response = requests.post(url, json=payload, headers=headers)\n",
        "    print(f\"[WhatsApp] Enviado: {message} | Status: {response.status_code}\")\n",
        "\n",
        "def get_match_stats(fixture_id):\n",
        "    headers = {\"x-apisports-key\": API_FOOTBALL_KEY}\n",
        "    params = {\"fixture\": fixture_id}\n",
        "    try:\n",
        "        r = requests.get(\"https://v3.football.api-sports.io/fixtures/statistics\", headers=headers, params=params)\n",
        "        data = r.json().get(\"response\", [])\n",
        "        stats = {}\n",
        "        for team_stats in data:\n",
        "            team_name = team_stats[\"team\"][\"name\"]\n",
        "            stats[team_name] = {}\n",
        "            for item in team_stats[\"statistics\"]:\n",
        "                stats[team_name][item[\"type\"]] = item[\"value\"]\n",
        "        return stats\n",
        "    except Exception as e:\n",
        "        print(f\"[Erro Stats] {e}\")\n",
        "        return {}\n",
        "\n",
        "def check_live_games():\n",
        "    headers = {\"x-apisports-key\": API_FOOTBALL_KEY}\n",
        "    for league, league_id in LEAGUE_IDS.items():\n",
        "        params = {\"live\": \"all\", \"league\": league_id, \"season\": 2024}\n",
        "        try:\n",
        "            r = requests.get(\"https://v3.football.api-sports.io/fixtures\", headers=headers, params=params)\n",
        "            matches = r.json().get(\"response\", [])\n",
        "            for match in matches:\n",
        "                fixture_id = match[\"fixture\"][\"id\"]\n",
        "                home = match[\"teams\"][\"home\"][\"name\"]\n",
        "                away = match[\"teams\"][\"away\"][\"name\"]\n",
        "                goals_home = match[\"goals\"][\"home\"]\n",
        "                goals_away = match[\"goals\"][\"away\"]\n",
        "\n",
        "                stats = get_match_stats(fixture_id)\n",
        "\n",
        "                if stats:\n",
        "                    home_shots = stats[home].get(\"Total Shots\", 0)\n",
        "                    away_shots = stats[away].get(\"Total Shots\", 0)\n",
        "                    home_attacks = stats[home].get(\"Dangerous Attacks\", 0)\n",
        "                    away_attacks = stats[away].get(\"Dangerous Attacks\", 0)\n",
        "\n",
        "                    if (home_shots + away_shots >= 8 or home_attacks + away_attacks >= 20) and \\\n",
        "                       (goals_home + goals_away) < 3:\n",
        "                        minute = match[\"fixture\"][\"status\"][\"elapsed\"]\n",
        "                        message = (\n",
        "                            f\"⚽ ALERTA DE GOL ⚽\\n\"\n",
        "                            f\"{home} x {away} ({goals_home}-{goals_away}) - {league}\\n\"\n",
        "                            f\"Minuto: {minute}'\\n\"\n",
        "                            f\"Chutes: {home_shots + away_shots}\\n\"\n",
        "                            f\"Ataques perigosos: {home_attacks + away_attacks}\"\n",
        "                        )\n",
        "                        send_whatsapp_message(message)\n",
        "        except Exception as e:\n",
        "            print(f\"[Erro Jogos] {e}\")\n",
        "\n",
        "if __name__ == \"__main__\":\n",
        "    print(\"🚀 Sistema de alertas iniciado...\")\n",
        "    while True:\n",
        "        check_live_games()\n",
        "        time.sleep(60)  # a cada 1 minuto\n"
      ]
    }
  ],
  "metadata": {
    "colab": {
      "provenance": []
    },
    "language_info": {
      "name": "python"
    },
    "kernelspec": {
      "name": "python3",
      "display_name": "Python 3"
    }
  },
  "nbformat": 4,
  "nbformat_minor": 5
}